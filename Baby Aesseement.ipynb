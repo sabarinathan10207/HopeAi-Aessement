{
 "cells": [
  {
   "cell_type": "code",
   "execution_count": 1,
   "id": "b963e531-f698-47d3-8ce6-85100f911d63",
   "metadata": {},
   "outputs": [
    {
     "name": "stdout",
     "output_type": "stream",
     "text": [
      "welcome Assignment-1\n"
     ]
    }
   ],
   "source": [
    "print(\"welcome Assignment-1\")"
   ]
  },
  {
   "cell_type": "code",
   "execution_count": 2,
   "id": "b67b1aa8-a79c-4c2f-9846-143f8775f735",
   "metadata": {},
   "outputs": [
    {
     "name": "stdout",
     "output_type": "stream",
     "text": [
      "Num1: 10\n",
      "Num2: 30\n",
      "Add: 40\n"
     ]
    }
   ],
   "source": [
    "num1=10\n",
    "print(\"Num1:\",num1)\n",
    "num2=30\n",
    "print(\"Num2:\",num2)\n",
    "add=num1+num2\n",
    "print(\"Add:\",add)"
   ]
  },
  {
   "cell_type": "code",
   "execution_count": 3,
   "id": "1cea1acb-ae29-4da3-a32a-8007ca127532",
   "metadata": {},
   "outputs": [
    {
     "name": "stdin",
     "output_type": "stream",
     "text": [
      "Enter the BMI index:  34\n"
     ]
    },
    {
     "name": "stdout",
     "output_type": "stream",
     "text": [
      "Enter the BMI Index: 34.0\n",
      "Overweight\n"
     ]
    }
   ],
   "source": [
    "bmiweight = float(input(\"Enter the BMI index: \"))\n",
    "print(\"Enter the BMI Index:\",bmiweight)\n",
    "\n",
    "if (bmiweight > 30):\n",
    "    print(\"Overweight\")\n",
    "\n"
   ]
  },
  {
   "cell_type": "code",
   "execution_count": null,
   "id": "62e8fe4c-5a1b-4234-a73b-2f57fc5e35c1",
   "metadata": {},
   "outputs": [],
   "source": []
  }
 ],
 "metadata": {
  "kernelspec": {
   "display_name": "Python 3 (ipykernel)",
   "language": "python",
   "name": "python3"
  },
  "language_info": {
   "codemirror_mode": {
    "name": "ipython",
    "version": 3
   },
   "file_extension": ".py",
   "mimetype": "text/x-python",
   "name": "python",
   "nbconvert_exporter": "python",
   "pygments_lexer": "ipython3",
   "version": "3.11.7"
  }
 },
 "nbformat": 4,
 "nbformat_minor": 5
}
