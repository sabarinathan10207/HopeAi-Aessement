{
 "cells": [
  {
   "cell_type": "code",
   "execution_count": 1,
   "id": "d9830e9c-98d3-4d73-8e14-6606fcbe8407",
   "metadata": {},
   "outputs": [
    {
     "name": "stdout",
     "output_type": "stream",
     "text": [
      "welcome Assignment-1\n"
     ]
    }
   ],
   "source": [
    "print(\"welcome Assignment-1\")"
   ]
  },
  {
   "cell_type": "code",
   "execution_count": 2,
   "id": "fd2c27ac-ebcd-4af9-a06a-c1a62dc67cbd",
   "metadata": {},
   "outputs": [
    {
     "name": "stdout",
     "output_type": "stream",
     "text": [
      "Num1: 10\n",
      "Num2: 30\n",
      "Add: 40\n"
     ]
    }
   ],
   "source": [
    "num1=10\n",
    "print(\"Num1:\",num1)\n",
    "num2=30\n",
    "print(\"Num2:\",num2)\n",
    "add=num1+num2\n",
    "print(\"Add:\",add)"
   ]
  },
  {
   "cell_type": "code",
   "execution_count": 4,
   "id": "15665287-5af9-4217-8400-68806bbc95a0",
   "metadata": {},
   "outputs": [
    {
     "name": "stdin",
     "output_type": "stream",
     "text": [
      "Enter the BMI index:  10\n"
     ]
    },
    {
     "name": "stdout",
     "output_type": "stream",
     "text": [
      "very over weight\n"
     ]
    }
   ],
   "source": [
    "bmiweight = float(input(\"Enter the BMI index: \"))\n",
    "#print(\"Enter the BMI Index:\",bmiweight)\n",
    "\n",
    "if (bmiweight > 18.5):\n",
    "     print(\"under weight\")\n",
    "elif(bmiweight<18.5-24.9):\n",
    "    print(\"normal weight\")\n",
    "elif(bmiweight<25-29.9):\n",
    "    print(\"over weight\")\n",
    "else:\n",
    "    print(\"very over weight\")\n"
   ]
  },
  {
   "cell_type": "code",
   "execution_count": null,
   "id": "be50a08c-d412-4bfc-8ace-9b5f06ffb4b6",
   "metadata": {},
   "outputs": [],
   "source": []
  }
 ],
 "metadata": {
  "kernelspec": {
   "display_name": "Python 3 (ipykernel)",
   "language": "python",
   "name": "python3"
  },
  "language_info": {
   "codemirror_mode": {
    "name": "ipython",
    "version": 3
   },
   "file_extension": ".py",
   "mimetype": "text/x-python",
   "name": "python",
   "nbconvert_exporter": "python",
   "pygments_lexer": "ipython3",
   "version": "3.11.7"
  }
 },
 "nbformat": 4,
 "nbformat_minor": 5
}
