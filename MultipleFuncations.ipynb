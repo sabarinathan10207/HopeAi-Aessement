{
 "cells": [
  {
   "cell_type": "code",
   "execution_count": 25,
   "id": "537e252c-78e8-495a-b070-fbfa3ab1b56f",
   "metadata": {},
   "outputs": [],
   "source": [
    "class MultipleFuncations():\n",
    "    def list_fields():\n",
    "        fields = [\n",
    "            \"Machine Learning\",\n",
    "            \"Neural Networks\",\n",
    "            \"Vision\",\n",
    "            \"Robotics\",\n",
    "            \"Speech Processing\",\n",
    "            \"Natural Language Processing\"\n",
    "        ]\n",
    "        print(\"Sub-fields in AI are:\")\n",
    "        for field in fields:\n",
    "            print(field)\n",
    "    ##############################################################################\n",
    "    def odd_even():\n",
    "        try:\n",
    "            number = int(input(\"Enter a number: \"))\n",
    "            if number % 2 == 0:\n",
    "                print(f\"{number} is an Even number\")\n",
    "            else:\n",
    "                print(f\"{number} is an Odd number\")\n",
    "        except ValueError:\n",
    "            print(\"Invalid input. Please enter a valid number.\")\n",
    "    ###############################################################################\n",
    "    def eligibility_for_marriage():\n",
    "        gender = input(\"Your Gender: \")\n",
    "        age = int(input(\"Your Age: \"))\n",
    "        \n",
    "        if gender.lower() == \"male\" and age >= 21:\n",
    "            print(\"ELIGIBLE\")\n",
    "        elif gender.lower() == \"female\" and age >= 18:\n",
    "            print(\"ELIGIBLE\")\n",
    "        else:\n",
    "            print(\"NOT ELIGIBLE\")\n",
    "    ###################################################################################\n",
    "    def find_percent():\n",
    "        Subject1 = 98\n",
    "        Subject2 = 87\n",
    "        Subject3 = 95\n",
    "        Subject4 = 95\n",
    "        Subject5 = 93\n",
    "        \n",
    "        total_marks = Subject1 + Subject2 + Subject3 + Subject4 + Subject5\n",
    "        max_marks = 500  \n",
    "        percentage = (total_marks / max_marks) * 100\n",
    "        \n",
    "        print(f\"Subject1= {Subject1}\")\n",
    "        print(f\"Subject2= {Subject2}\")\n",
    "        print(f\"Subject3= {Subject3}\")\n",
    "        print(f\"Subject4= {Subject4}\")\n",
    "        print(f\"Subject5= {Subject5}\")\n",
    "        print(f\"Total : {total_marks}\")\n",
    "        print(f\"Percentage : {percentage}\")\n",
    "    ######################################################################################\n",
    "    def triangle():\n",
    "        height = float(input(\"Height: \"))\n",
    "        breadth = float(input(\"Breadth: \"))\n",
    "        area = (height * breadth) / 2\n",
    "        \n",
    "        print(f\"Area formula: (Height * Breadth) / 2\")\n",
    "        print(f\"Area of Triangle: {area}\")\n",
    "        \n",
    "        height1 = float(input(\"Height1: \"))\n",
    "        height2 = float(input(\"Height2: \"))\n",
    "        breadth2 = float(input(\"Breadth: \"))  # Use a different variable name for the second breadth\n",
    "        perimeter = height1 + height2 + breadth2\n",
    "        \n",
    "        print(f\"Perimeter formula: Height1 + Height2 + Breadth\")\n",
    "        print(f\"Perimeter of Triangle: {perimeter}\")\n",
    "\n",
    "\n"
   ]
  },
  {
   "cell_type": "code",
   "execution_count": 14,
   "id": "b332cdd0-7cdd-4d58-99da-d9ed84426721",
   "metadata": {},
   "outputs": [
    {
     "name": "stdout",
     "output_type": "stream",
     "text": [
      "Sub-fields in AI are:\n",
      "Machine Learning\n",
      "Neural Networks\n",
      "Vision\n",
      "Robotics\n",
      "Speech Processing\n",
      "Natural Language Processing\n"
     ]
    }
   ],
   "source": [
    "MultipleFuncations.list_fields()"
   ]
  },
  {
   "cell_type": "code",
   "execution_count": 18,
   "id": "363b8c88-497c-4ce3-bbe0-73f68cb3f9a6",
   "metadata": {},
   "outputs": [
    {
     "name": "stdin",
     "output_type": "stream",
     "text": [
      "Enter a number:  52452\n"
     ]
    },
    {
     "name": "stdout",
     "output_type": "stream",
     "text": [
      "52452 is an Even number\n"
     ]
    }
   ],
   "source": [
    "MultipleFuncations.odd_even()"
   ]
  },
  {
   "cell_type": "code",
   "execution_count": 20,
   "id": "9fd9d11f-1004-4906-8fa8-2ad3192fd1f6",
   "metadata": {},
   "outputs": [
    {
     "name": "stdin",
     "output_type": "stream",
     "text": [
      "Your Gender:  Male\n",
      "Your Age:  20\n"
     ]
    },
    {
     "name": "stdout",
     "output_type": "stream",
     "text": [
      "NOT ELIGIBLE\n"
     ]
    }
   ],
   "source": [
    "MultipleFuncations.eligibility_for_marriage()"
   ]
  },
  {
   "cell_type": "code",
   "execution_count": 22,
   "id": "d1f63b51-7627-42da-9009-725bfc77431f",
   "metadata": {},
   "outputs": [
    {
     "name": "stdout",
     "output_type": "stream",
     "text": [
      "Subject1= 98\n",
      "Subject2= 87\n",
      "Subject3= 95\n",
      "Subject4= 95\n",
      "Subject5= 93\n",
      "Total : 468\n",
      "Percentage : 93.60000000000001\n"
     ]
    }
   ],
   "source": [
    "MultipleFuncations.find_percent()"
   ]
  },
  {
   "cell_type": "code",
   "execution_count": 24,
   "id": "383641ca-b87c-4ae4-a5e1-7cc0e11e27f7",
   "metadata": {},
   "outputs": [
    {
     "name": "stdin",
     "output_type": "stream",
     "text": [
      "Height:  32\n",
      "Breadth:  34\n"
     ]
    },
    {
     "name": "stdout",
     "output_type": "stream",
     "text": [
      "Area formula: (Height * Breadth) / 2\n",
      "Area of Triangle: 544.0\n"
     ]
    },
    {
     "name": "stdin",
     "output_type": "stream",
     "text": [
      "Height1:  2\n",
      "Height2:  4\n",
      "Breadth:  4\n"
     ]
    },
    {
     "name": "stdout",
     "output_type": "stream",
     "text": [
      "Perimeter formula: Height1 + Height2 + Breadth\n",
      "Perimeter of Triangle: 10.0\n"
     ]
    }
   ],
   "source": [
    "MultipleFuncations.triangle()"
   ]
  }
 ],
 "metadata": {
  "kernelspec": {
   "display_name": "Python 3 (ipykernel)",
   "language": "python",
   "name": "python3"
  },
  "language_info": {
   "codemirror_mode": {
    "name": "ipython",
    "version": 3
   },
   "file_extension": ".py",
   "mimetype": "text/x-python",
   "name": "python",
   "nbconvert_exporter": "python",
   "pygments_lexer": "ipython3",
   "version": "3.11.7"
  }
 },
 "nbformat": 4,
 "nbformat_minor": 5
}
