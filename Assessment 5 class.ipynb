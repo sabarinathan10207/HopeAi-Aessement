{
 "cells": [
  {
   "cell_type": "code",
   "execution_count": 142,
   "id": "4afec60b-63ce-4bd3-869d-7f8a7655695f",
   "metadata": {},
   "outputs": [],
   "source": [
    "class AIFields:\n",
    "   # def CV(self):\n",
    "    def __init__(self):\n",
    "        self.fields = [\n",
    "            \"Machine Learning\",\n",
    "            \"Neural Networks\",\n",
    "            \"Vision\",\n",
    "            \"Robotics\",\n",
    "            \"Speech Processing\",\n",
    "            \"Natural Language Processing\"\n",
    "        ]\n",
    "\n",
    "    def list_fields(self):\n",
    "        print(\"Sub-fields in AI are:\")\n",
    "        for field in self.fields:\n",
    "            print(field)"
   ]
  },
  {
   "cell_type": "code",
   "execution_count": 144,
   "id": "0e4ba2e9-1f96-49fe-9d82-3d8d27bc5983",
   "metadata": {},
   "outputs": [
    {
     "name": "stdout",
     "output_type": "stream",
     "text": [
      "Sub-fields in AI are:\n",
      "Machine Learning\n",
      "Neural Networks\n",
      "Vision\n",
      "Robotics\n",
      "Speech Processing\n",
      "Natural Language Processing\n"
     ]
    }
   ],
   "source": [
    "AI = AIFields()\n",
    "#AI.CV()\n",
    "AI.list_fields()\n"
   ]
  },
  {
   "cell_type": "code",
   "execution_count": 174,
   "id": "7b382e1b-ba6b-4e4e-a545-2ea75d1041fd",
   "metadata": {},
   "outputs": [],
   "source": [
    "class OddEven:\n",
    "    def OddEven(self):\n",
    "        try:\n",
    "            number = int(input(\"Enter a number: \"))\n",
    "            if number % 2 == 0:\n",
    "                print(f\"{number} is an Even number\")\n",
    "            else:\n",
    "                print(f\"{number} is an Odd number\")\n",
    "        except ValueError:\n",
    "            print(\"Invalid input. Please enter a valid number.\")"
   ]
  },
  {
   "cell_type": "code",
   "execution_count": 175,
   "id": "90096d82-731b-46a5-9b6e-5e11e0fa0a71",
   "metadata": {},
   "outputs": [
    {
     "name": "stdin",
     "output_type": "stream",
     "text": [
      "Enter a number:  52452\n"
     ]
    },
    {
     "name": "stdout",
     "output_type": "stream",
     "text": [
      "52452 is an Even number\n"
     ]
    }
   ],
   "source": [
    "odd_even = OddEven()\n",
    "odd_even.OddEven()"
   ]
  },
  {
   "cell_type": "code",
   "execution_count": 171,
   "id": "94580f18-e1a6-47e6-a476-4c7772779ac3",
   "metadata": {},
   "outputs": [],
   "source": [
    "class ElegibilityForMarriage:\n",
    "    def Elegible(self):\n",
    "        gender = input(\"Your Gender: \")\n",
    "        age = int(input(\"Your Age: \"))\n",
    "        \n",
    "        if gender.lower() == \"male\" and age >= 21:\n",
    "            print(\"ELIGIBLE\")\n",
    "        elif gender.lower() == \"female\" and age >= 18:\n",
    "            print(\"ELIGIBLE\")\n",
    "        else:\n",
    "            print(\"NOT ELIGIBLE\")\n"
   ]
  },
  {
   "cell_type": "code",
   "execution_count": 173,
   "id": "c3a86a46-5ae4-4f9f-afb9-7ee6b9edacac",
   "metadata": {},
   "outputs": [
    {
     "name": "stdin",
     "output_type": "stream",
     "text": [
      "Your Gender:  Male\n",
      "Your Age:  20\n"
     ]
    },
    {
     "name": "stdout",
     "output_type": "stream",
     "text": [
      "NOT ELIGIBLE\n"
     ]
    }
   ],
   "source": [
    "eligibility = ElegibilityForMarriage()\n",
    "eligibility.Elegible()"
   ]
  },
  {
   "cell_type": "code",
   "execution_count": 178,
   "id": "8856ecb5-5107-4055-8c9b-baebbb6b0018",
   "metadata": {},
   "outputs": [],
   "source": [
    "class FindPercent:\n",
    "    def percentage(self):\n",
    "        Subject1 = 98\n",
    "        Subject2 = 87\n",
    "        Subject3 = 95\n",
    "        Subject4 = 95\n",
    "        Subject5 = 93\n",
    "        \n",
    "        total_marks = Subject1 + Subject2 + Subject3 + Subject4 + Subject5\n",
    "        max_marks = 500  \n",
    "        percentage = (total_marks / max_marks) * 100\n",
    "        \n",
    "        print(f\"Subject1= {Subject1}\")\n",
    "        print(f\"Subject2= {Subject2}\")\n",
    "        print(f\"Subject3= {Subject3}\")\n",
    "        print(f\"Subject4= {Subject4}\")\n",
    "        print(f\"Subject5= {Subject5}\")\n",
    "        print(f\"Total : {total_marks}\")\n",
    "        print(f\"Percentage : {percentage}\")\n",
    "\n",
    "\n"
   ]
  },
  {
   "cell_type": "code",
   "execution_count": 179,
   "id": "0ea1c4c1-31a9-4064-a9aa-2dd5c3f99e99",
   "metadata": {},
   "outputs": [
    {
     "name": "stdout",
     "output_type": "stream",
     "text": [
      "Subject1= 98\n",
      "Subject2= 87\n",
      "Subject3= 95\n",
      "Subject4= 95\n",
      "Subject5= 93\n",
      "Total : 468\n",
      "Percentage : 93.60000000000001\n"
     ]
    }
   ],
   "source": [
    "find_percent = FindPercent()\n",
    "find_percent.percentage()"
   ]
  },
  {
   "cell_type": "code",
   "execution_count": 169,
   "id": "4b88f816-fb1e-4e79-93b3-a9911f0d3343",
   "metadata": {},
   "outputs": [],
   "source": [
    "class Triangle:\n",
    "    def triangle(self):\n",
    "        height = float(input(\"Height: \"))\n",
    "        breadth = float(input(\"Breadth: \"))\n",
    "        area = (height * breadth) / 2\n",
    "        \n",
    "        print(f\"Area formula: (Height * Breadth) / 2\")\n",
    "        print(f\"Area of Triangle: {area}\")\n",
    "        \n",
    "        height1 = float(input(\"Height1: \"))\n",
    "        height2 = float(input(\"Height2: \"))\n",
    "        breadth2 = float(input(\"Breadth: \"))  # Use a different variable name for the second breadth\n",
    "        perimeter = height1 + height2 + breadth2\n",
    "        \n",
    "        print(f\"Perimeter formula: Height1 + Height2 + Breadth\")\n",
    "        print(f\"Perimeter of Triangle: {perimeter}\")"
   ]
  },
  {
   "cell_type": "code",
   "execution_count": 180,
   "id": "4849bf20-f711-4830-8a53-0472a33c1cbb",
   "metadata": {},
   "outputs": [
    {
     "name": "stdin",
     "output_type": "stream",
     "text": [
      "Height:  32\n",
      "Breadth:  34\n"
     ]
    },
    {
     "name": "stdout",
     "output_type": "stream",
     "text": [
      "Area formula: (Height * Breadth) / 2\n",
      "Area of Triangle: 544.0\n"
     ]
    },
    {
     "name": "stdin",
     "output_type": "stream",
     "text": [
      "Height1:  2\n",
      "Height2:  4\n",
      "Breadth:  4\n"
     ]
    },
    {
     "name": "stdout",
     "output_type": "stream",
     "text": [
      "Perimeter formula: Height1 + Height2 + Breadth\n",
      "Perimeter of Triangle: 10.0\n"
     ]
    }
   ],
   "source": [
    "triangle = Triangle()\n",
    "triangle.triangle()"
   ]
  },
  {
   "cell_type": "code",
   "execution_count": null,
   "id": "98eab98a-5b3d-4d14-9373-807d1a16f462",
   "metadata": {},
   "outputs": [],
   "source": []
  }
 ],
 "metadata": {
  "kernelspec": {
   "display_name": "Python 3 (ipykernel)",
   "language": "python",
   "name": "python3"
  },
  "language_info": {
   "codemirror_mode": {
    "name": "ipython",
    "version": 3
   },
   "file_extension": ".py",
   "mimetype": "text/x-python",
   "name": "python",
   "nbconvert_exporter": "python",
   "pygments_lexer": "ipython3",
   "version": "3.11.7"
  }
 },
 "nbformat": 4,
 "nbformat_minor": 5
}
