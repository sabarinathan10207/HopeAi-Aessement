{
 "cells": [
  {
   "cell_type": "code",
   "execution_count": 2,
   "id": "d31ef632-2375-4524-a31d-5f8609d4e261",
   "metadata": {},
   "outputs": [
    {
     "name": "stdout",
     "output_type": "stream",
     "text": [
      "HOPE AI\n"
     ]
    }
   ],
   "source": [
    "print(\"HOPE AI\")"
   ]
  },
  {
   "cell_type": "code",
   "execution_count": 3,
   "id": "caec4d1e-3f77-467d-a903-01699e5b1e4e",
   "metadata": {},
   "outputs": [
    {
     "name": "stdout",
     "output_type": "stream",
     "text": [
      "Enter your institute name?:HOPE AI\n"
     ]
    }
   ],
   "source": [
    "print(\"Enter your institute name?:HOPE AI\")"
   ]
  },
  {
   "cell_type": "code",
   "execution_count": 4,
   "id": "f2fb337c-5d81-4476-bf8a-15555d07d38c",
   "metadata": {},
   "outputs": [
    {
     "name": "stdout",
     "output_type": "stream",
     "text": [
      "Enter your name:Raj\n",
      "Enter your age:15\n",
      "Enter your school name:Guru school\n",
      "Enter your degree:B.E CSE\n"
     ]
    }
   ],
   "source": [
    "print(\"Enter your name:Raj\")\n",
    "print(\"Enter your age:15\")\n",
    "print(\"Enter your school name:Guru school\")\n",
    "print(\"Enter your degree:B.E CSE\")"
   ]
  },
  {
   "cell_type": "code",
   "execution_count": 5,
   "id": "761dca02-8382-4a4a-952a-89895c4eb961",
   "metadata": {},
   "outputs": [],
   "source": [
    "#Addition"
   ]
  },
  {
   "cell_type": "code",
   "execution_count": 6,
   "id": "bc6296f2-92e7-441f-a3ff-b8d374ae6a09",
   "metadata": {},
   "outputs": [
    {
     "name": "stdout",
     "output_type": "stream",
     "text": [
      "a=43\n",
      "b=34\n",
      "77\n"
     ]
    }
   ],
   "source": [
    "a=43\n",
    "print(\"a=43\")\n",
    "b=34\n",
    "print(\"b=34\")\n",
    "add=a+b\n",
    "print(add)"
   ]
  },
  {
   "cell_type": "code",
   "execution_count": 7,
   "id": "2572cb35-907d-4774-8084-628634ef8f76",
   "metadata": {},
   "outputs": [],
   "source": [
    "#Subtraction"
   ]
  },
  {
   "cell_type": "code",
   "execution_count": 8,
   "id": "20ac2371-02ea-4797-8f7c-6b73de0bb4c0",
   "metadata": {},
   "outputs": [
    {
     "name": "stdout",
     "output_type": "stream",
     "text": [
      "a=43\n",
      "b=34\n",
      "9\n"
     ]
    }
   ],
   "source": [
    "a=43\n",
    "print(\"a=43\")\n",
    "b=34\n",
    "print(\"b=34\")\n",
    "add=a-b\n",
    "print(add)"
   ]
  },
  {
   "cell_type": "code",
   "execution_count": 9,
   "id": "22012007-eaa9-45a0-9df0-5681a124847b",
   "metadata": {},
   "outputs": [],
   "source": [
    "#Multiplication"
   ]
  },
  {
   "cell_type": "code",
   "execution_count": 10,
   "id": "26a603c0-cc08-40e2-bef5-d618a20fc00d",
   "metadata": {},
   "outputs": [
    {
     "name": "stdout",
     "output_type": "stream",
     "text": [
      "a=63\n",
      "b=97\n",
      "6111\n"
     ]
    }
   ],
   "source": [
    "\n",
    "a=63\n",
    "print(\"a=63\")\n",
    "b=97\n",
    "print(\"b=97\")\n",
    "add=a*b\n",
    "print(add)"
   ]
  },
  {
   "cell_type": "code",
   "execution_count": 11,
   "id": "6b5b5ad7-4157-4538-8d62-b1a517293633",
   "metadata": {},
   "outputs": [],
   "source": [
    "#Division"
   ]
  },
  {
   "cell_type": "code",
   "execution_count": 12,
   "id": "b8f4b846-241f-4b92-9efa-b66e0f9c7f15",
   "metadata": {},
   "outputs": [
    {
     "name": "stdout",
     "output_type": "stream",
     "text": [
      "a=76\n",
      "b=31\n",
      "2.4516129032258065\n"
     ]
    }
   ],
   "source": [
    "\n",
    "a=76\n",
    "print(\"a=76\")\n",
    "b=31\n",
    "print(\"b=31\")\n",
    "add=a/b\n",
    "print(add)"
   ]
  },
  {
   "cell_type": "code",
   "execution_count": 13,
   "id": "7ef7d9c8-178f-4e10-ab4f-d974d87188f9",
   "metadata": {},
   "outputs": [],
   "source": [
    "#Floor division"
   ]
  },
  {
   "cell_type": "code",
   "execution_count": 13,
   "id": "1d40d745-1b5e-4172-9d2c-07e1f40f9c11",
   "metadata": {},
   "outputs": [
    {
     "name": "stdout",
     "output_type": "stream",
     "text": [
      "a=76\n",
      "b=31\n",
      "2\n"
     ]
    }
   ],
   "source": [
    "a=76\n",
    "print(\"a=76\")\n",
    "b=31\n",
    "print(\"b=31\")\n",
    "add=a//b\n",
    "print(add)"
   ]
  },
  {
   "cell_type": "code",
   "execution_count": 15,
   "id": "bd00ba9e-1f5c-401d-a0be-6125b0147faf",
   "metadata": {},
   "outputs": [],
   "source": [
    "#Modulo"
   ]
  },
  {
   "cell_type": "code",
   "execution_count": 14,
   "id": "2d1078e9-82b1-4441-be92-07dc4027e163",
   "metadata": {},
   "outputs": [
    {
     "name": "stdout",
     "output_type": "stream",
     "text": [
      "a=76\n",
      "b=31\n",
      "14\n"
     ]
    }
   ],
   "source": [
    "a=76\n",
    "print(\"a=76\")\n",
    "b=31\n",
    "print(\"b=31\")\n",
    "add=a%b\n",
    "print(add)"
   ]
  },
  {
   "cell_type": "code",
   "execution_count": 16,
   "id": "6778cdf0-6ca9-45c4-8c22-b8c501484e2c",
   "metadata": {},
   "outputs": [],
   "source": [
    "#Power"
   ]
  },
  {
   "cell_type": "code",
   "execution_count": 17,
   "id": "37e9ede7-3d2c-44be-bf5d-2116ce321101",
   "metadata": {},
   "outputs": [
    {
     "name": "stdout",
     "output_type": "stream",
     "text": [
      "a=4\n",
      "b=4\n",
      "256\n"
     ]
    }
   ],
   "source": [
    "a=4\n",
    "print(\"a=4\")\n",
    "b=4\n",
    "print(\"b=4\")\n",
    "add=(a*a*a*a)\n",
    "print(add)"
   ]
  }
 ],
 "metadata": {
  "kernelspec": {
   "display_name": "Python 3 (ipykernel)",
   "language": "python",
   "name": "python3"
  },
  "language_info": {
   "codemirror_mode": {
    "name": "ipython",
    "version": 3
   },
   "file_extension": ".py",
   "mimetype": "text/x-python",
   "name": "python",
   "nbconvert_exporter": "python",
   "pygments_lexer": "ipython3",
   "version": "3.11.7"
  }
 },
 "nbformat": 4,
 "nbformat_minor": 5
}
